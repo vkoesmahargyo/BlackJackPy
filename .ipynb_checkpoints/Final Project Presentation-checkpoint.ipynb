{
 "cells": [
  {
   "cell_type": "raw",
   "metadata": {},
   "source": [
    "888888b.   888                   888       d8b                   888\n",
    "888  \"88b  888                   888       Y8P                   888\n",
    "888  .88P  888                   888                             888\n",
    "8888888K.  888  8888b.   .d8888b 888  888 8888  8888b.   .d8888b 888  888\n",
    "888  \"Y88b 888     \"88b d88P\"    888 .88P \"888     \"88b d88P\"    888 .88P\n",
    "888    888 888 .d888888 888      888888K   888 .d888888 888      888888K\n",
    "888   d88P 888 888  888 Y88b.    888 \"88b  888 888  888 Y88b.    888 \"88b\n",
    "8888888P\"  888 \"Y888888  \"Y8888P 888  888  888 \"Y888888  \"Y8888P 888  888\n",
    "                                           888\n",
    "                                          d88P\n",
    "                                        888P\""
   ]
  },
  {
   "cell_type": "markdown",
   "metadata": {},
   "source": [
    "\n",
    "### Team Members: \n",
    "\n",
    "Vidya Koesmahargyo<br>\n",
    "Kit McDonald<br>\n",
    "Eden Feldman<br>"
   ]
  },
  {
   "cell_type": "markdown",
   "metadata": {},
   "source": [
    "# Blackjack game description\n",
    "\n",
    "- Reach a final score higher than the dealer without exceeding 21!\n",
    "- If the player's first two cards are worth 21 points that's **Blackjack!**"
   ]
  },
  {
   "cell_type": "markdown",
   "metadata": {},
   "source": [
    "# Making the game:   \n",
    "- **Elements needed:** a card deck, a dealer, a player, hands, etc.   \n",
    "- **Other things:** code for game play"
   ]
  },
  {
   "cell_type": "markdown",
   "metadata": {},
   "source": [
    "# How the game runs:\n",
    "\n",
    "- **Input:** Player name and player bet\n",
    "- **Output:** Player starting hand, one dealer card\n",
    "- **Input:** Players choice: hit, stand or double double (doubles the bet)\n",
    "- **Output:** Final result, player final hand and score, dealer final hand and score"
   ]
  },
  {
   "cell_type": "markdown",
   "metadata": {},
   "source": [
    "# Deck Dictionary\n",
    "\n",
    "**How the deck dictionary was made:**    "
   ]
  },
  {
   "cell_type": "code",
   "execution_count": null,
   "metadata": {},
   "outputs": [],
   "source": [
    "suits = ['\\u2663', '\\u2665', '\\u2666', '\\u2660']*13\n",
    "values = ['A', '2', '3', '4', '5', '6', '7', '8', '9', '10', 'J', 'Q', 'K']*4\n",
    "trial_deck = {}\n",
    "for i in range(1, 53):\n",
    "    trial_deck[i] = {\n",
    "                        'card': values[i-1] + ' ' + suits[i-1],\n",
    "                        'actual_value': []\n",
    "                    }\n",
    "print(trial_deck)"
   ]
  },
  {
   "cell_type": "markdown",
   "metadata": {},
   "source": [
    "**Final Product:**"
   ]
  },
  {
   "cell_type": "code",
   "execution_count": null,
   "metadata": {},
   "outputs": [],
   "source": [
    "DECK_DICT = {\n",
    "                1: {'card': 'A ♣', 'value': [1, 11]},\n",
    "                2: {'card': '2 ♥', 'value': [2]},\n",
    "                3: {'card': '3 ♦', 'value': [3]},\n",
    "                4: {'card': '4 ♠', 'value': [4]},\n",
    "                5: {'card': '5 ♣', 'value': [5]},\n",
    "                6: {'card': '6 ♥', 'value': [6]},\n",
    "                7: {'card': '7 ♦', 'value': [7]},\n",
    "                8: {'card': '8 ♠', 'value': [8]},\n",
    "                9: {'card': '9 ♣', 'value': [9]},\n",
    "                10: {'card': '10 ♥', 'value': [10]},\n",
    "                11: {'card': 'J ♦', 'value': [10]},\n",
    "                12: {'card': 'Q ♠', 'value': [10]},\n",
    "                13: {'card': 'K ♣', 'value': [10]},\n",
    "                14: {'card': 'A ♥', 'value': [1, 11]},\n",
    "                15: {'card': '2 ♦', 'value': [2]},\n",
    "                16: {'card': '3 ♠', 'value': [3]},\n",
    "                17: {'card': '4 ♣', 'value': [4]},\n",
    "                18: {'card': '5 ♥', 'value': [5]},\n",
    "                19: {'card': '6 ♦', 'value': [6]},\n",
    "                20: {'card': '7 ♠', 'value': [7]},\n",
    "                21: {'card': '8 ♣', 'value': [8]},\n",
    "                22: {'card': '9 ♥', 'value': [9]},\n",
    "                23: {'card': '10 ♦', 'value': [10]},\n",
    "                24: {'card': 'J ♠', 'value': [10]},\n",
    "                25: {'card': 'Q ♣', 'value': [10]},\n",
    "                26: {'card': 'K ♥', 'value': [10]},\n",
    "                27: {'card': 'A ♦', 'value': [1, 11]},\n",
    "                28: {'card': '2 ♠', 'value': [2]},\n",
    "                29: {'card': '3 ♣', 'value': [3]},\n",
    "                30: {'card': '4 ♥', 'value': [4]},\n",
    "                31: {'card': '5 ♦', 'value': [5]},\n",
    "                32: {'card': '6 ♠', 'value': [6]},\n",
    "                33: {'card': '7 ♣', 'value': [7]},\n",
    "                34: {'card': '8 ♥', 'value': [8]},\n",
    "                35: {'card': '9 ♦', 'value': [9]},\n",
    "                36: {'card': '10 ♠', 'value': [10]},\n",
    "                37: {'card': 'J ♣', 'value': [10]},\n",
    "                38: {'card': 'Q ♥', 'value': [10]},\n",
    "                39: {'card': 'K ♦', 'value': [10]},\n",
    "                40: {'card': 'A ♠', 'value': [1, 11]},\n",
    "                41: {'card': '2 ♣', 'value': [2]},\n",
    "                42: {'card': '3 ♥', 'value': [3]},\n",
    "                43: {'card': '4 ♦', 'value': [4]},\n",
    "                44: {'card': '5 ♠', 'value': [5]},\n",
    "                45: {'card': '6 ♣', 'value': [6]},\n",
    "                46: {'card': '7 ♥', 'value': [7]},\n",
    "                47: {'card': '8 ♦', 'value': [8]},\n",
    "                48: {'card': '9 ♠', 'value': [9]},\n",
    "                49: {'card': '10 ♣', 'value': [10]},\n",
    "                50: {'card': 'J ♥', 'value': [10]},\n",
    "                51: {'card': 'Q ♦', 'value': [10]},\n",
    "                52: {'card': 'K ♠', 'value': [10]}}"
   ]
  },
  {
   "cell_type": "markdown",
   "metadata": {},
   "source": [
    "# Classes: Deck, Player and Dealer"
   ]
  },
  {
   "cell_type": "markdown",
   "metadata": {},
   "source": [
    "## Deck Class"
   ]
  },
  {
   "cell_type": "code",
   "execution_count": null,
   "metadata": {},
   "outputs": [],
   "source": [
    "import random\n",
    "\n",
    "class Card_Deck(object):\n",
    "\n",
    "    deck = []\n",
    "\n",
    "    def new_deck(self):\n",
    "        self.deck = [x for x in range(1,53)] # * 6  <-- Added to the real code.  Our casino uses 6 decks!\n",
    "\n",
    "    def shuffle(self):\n",
    "        random.shuffle(self.deck)\n",
    "\n",
    "    def give_one_card(self):\n",
    "        card = self.deck.pop()\n",
    "        return card"
   ]
  },
  {
   "cell_type": "code",
   "execution_count": null,
   "metadata": {},
   "outputs": [],
   "source": [
    "# Create the Card_Deck instance\n",
    "shuffled_cards = Card_Deck()\n",
    "\n",
    "print(shuffled_cards.deck)"
   ]
  },
  {
   "cell_type": "code",
   "execution_count": null,
   "metadata": {},
   "outputs": [],
   "source": [
    "# Add cards\n",
    "shuffled_cards.new_deck()\n",
    "\n",
    "print(shuffled_cards.deck)"
   ]
  },
  {
   "cell_type": "code",
   "execution_count": null,
   "metadata": {},
   "outputs": [],
   "source": [
    "# Shuffle the cards\n",
    "shuffled_cards.shuffle()\n",
    "\n",
    "print(shuffled_cards.deck)"
   ]
  },
  {
   "cell_type": "code",
   "execution_count": null,
   "metadata": {},
   "outputs": [],
   "source": [
    "# Get a card (and print)\n",
    "print(shuffled_cards.give_one_card())\n",
    "\n",
    "print(shuffled_cards.deck)"
   ]
  },
  {
   "cell_type": "markdown",
   "metadata": {},
   "source": [
    "# Player Class Methods"
   ]
  },
  {
   "cell_type": "code",
   "execution_count": null,
   "metadata": {},
   "outputs": [],
   "source": [
    "class Player(object):\n",
    "    player_hand = []\n",
    "    hand_value = 0\n",
    "    has_ace = False\n",
    "    busted = False\n",
    "    balance = 1000\n",
    "    bet = 0\n",
    "\n",
    "    def __init__(self, name):\n",
    "        self.name = name\n",
    "\n",
    "    def show_balance(self):\n",
    "        print(\"\\n{} currently has ${}.\".format(self.name, self.balance))\n",
    "\n",
    "    def get_card(self):\n",
    "        card_key = shuffled_cards.give_one_card()\n",
    "        hand_card = [DECK_DICT[card_key][\"card\"], DECK_DICT[card_key][\"value\"]]\n",
    "        self.player_hand.append(hand_card)\n",
    "\n",
    "    def show_hand(self):\n",
    "        to_print = []\n",
    "        for i in range(len(player_1.player_hand)):\n",
    "            to_print.append(player_1.player_hand[i][0])\n",
    "            print(player_1.name + \": [\" + \"]  [\".join(to_print) + \"]\")\n",
    "\n",
    "    def update_balance(self):\n",
    "        if self.busted == True or self.hand_won == False:\n",
    "            self.balance -= self.bet\n",
    "        elif self.hand_won == True:\n",
    "            self.balance += self.bet"
   ]
  },
  {
   "cell_type": "markdown",
   "metadata": {},
   "source": [
    "# Dealer Class Methods"
   ]
  },
  {
   "cell_type": "code",
   "execution_count": null,
   "metadata": {},
   "outputs": [],
   "source": [
    "class Dealer():\n",
    "    def get_dealer_two_card_sum(self):\n",
    "        total = 0\n",
    "        card_1_ace = dealer.check_if_ace(self.dealer_cards[0])\n",
    "        card_2_ace = dealer.check_if_ace(self.dealer_cards[1])\n",
    "        if card_1_ace == False and card_2_ace == False:\n",
    "            total += DECK_DICT[self.dealer_cards[0]]['value'][0] + DECK_DICT[self.dealer_cards[1]]['value'][0]\n",
    "        elif card_1_ace == True and card_2_ace == True:\n",
    "            total = 12\n",
    "        elif card_1_ace == True:\n",
    "            total += DECK_DICT[self.dealer_cards[0]]['value'][1] + DECK_DICT[self.dealer_cards[1]]['value'][0]\n",
    "        elif card_2_ace == True:\n",
    "            total += DECK_DICT[self.dealer_cards[0]]['value'][0] + DECK_DICT[self.dealer_cards[1]]['value'][1]\n",
    "        return total, card_1_ace, card_2_ace\n",
    "\n",
    "\n",
    "    def dealer_cards_check_total(self):\n",
    "        total, card_1_ace, card_2_ace = dealer.get_dealer_two_card_sum()\n",
    "        dealer.print_dealer_cards(running_total=total, turn = True)\n",
    "        if total > 17 :\n",
    "            return total\n",
    "        elif total == 17 and card_1_ace == False and card_2_ace == False:\n",
    "            return total\n",
    "        elif total <= 17:\n",
    "            return dealer.less_than_18(total, card_1_ace, card_2_ace)\n",
    "\n",
    "    def less_than_18(self, total, card_1_ace, card_2_ace):\n",
    "        if (card_1_ace == False and card_2_ace == False):\n",
    "            soft_card = False\n",
    "            while True:\n",
    "                curr_card = shuffled_cards.give_one_card()\n",
    "                self.dealer_cards.append(curr_card)\n",
    "                temp_total = total + DECK_DICT[curr_card]['value'][0]\n",
    "\n",
    "                if dealer.check_if_ace(curr_card) and total < 11:\n",
    "                    total += 11\n",
    "                    soft_card = True\n",
    "                elif dealer.check_if_ace(curr_card) and total >= 11:\n",
    "                    total += 1\n",
    "                elif soft_card == True and temp_total >= 22:\n",
    "                    total = temp_total - 10\n",
    "                    soft_card = False\n",
    "                else:\n",
    "                    total += DECK_DICT[curr_card]['value'][0]\n",
    "\n",
    "                dealer.print_dealer_cards(running_total=total, turn=False)\n",
    "\n",
    "                if total >= 17:\n",
    "                    break\n",
    "            return total\n",
    "        else:\n",
    "            soft_card = True\n",
    "            while True:\n",
    "                curr_card = shuffled_cards.give_one_card()\n",
    "                self.dealer_cards.append(curr_card)\n",
    "                curr_card_value = DECK_DICT[curr_card]['value'][0]\n",
    "                temp_total = total + curr_card_value\n",
    "\n",
    "                if temp_total >= 22 and soft_card:\n",
    "                    total = temp_total - 10\n",
    "                    soft_card = False\n",
    "                elif temp_total >= 22 and soft_card == False: # dealer busts\n",
    "                    total = temp_total\n",
    "                else:\n",
    "                    total = temp_total\n",
    "\n",
    "                dealer.print_dealer_cards(turn = False, running_total=total)\n",
    "\n",
    "                if total >= 17:\n",
    "                    break\n",
    "            return total"
   ]
  },
  {
   "cell_type": "markdown",
   "metadata": {},
   "source": [
    "# Game Loop"
   ]
  },
  {
   "cell_type": "code",
   "execution_count": null,
   "metadata": {},
   "outputs": [],
   "source": [
    "while True:\n",
    "    if player_1.ace_value == 21 and turn_1:\n",
    "        print('\\n\\nBLACKJACK! \\n', player_1.ace_value)\n",
    "        player_final_total = player_1.ace_value\n",
    "        player_blackjack = True\n",
    "        sleep(1)\n",
    "        break\n",
    "    if dealer.dealer_blackjack() == 21:\n",
    "        dealer_21 = True\n",
    "        break\n",
    "\n",
    "    # Get user input for gameplay: hit, stand or double down\n",
    "    if (player_1.hand_value == 10 or player_1.hand_value == 11) and turn_1 and (player_1.bet*2) < player_1.balance:\n",
    "        hs_input = input('\\nWould you like to hit (h), stand (s), or double down (d)?\\n')\n",
    "    else:\n",
    "        hs_input = input('\\nWould you like to hit (h) or stand (s)?\\n')\n",
    "\n",
    "    if hs_input.lower() in ['d', 'dd', 'double', 'double down'] and turn_1:\n",
    "        player_1.double_down_bet()\n",
    "        double_down()\n",
    "        if player_1.has_ace:\n",
    "            player_final_total = player_1.ace_value\n",
    "        else:\n",
    "            player_final_total = player_1.hand_value\n",
    "        turn_1 = False\n",
    "        break\n",
    "\n",
    "    if hs_input.lower() in ['s', 'stand']:\n",
    "        if player_1.ace_value > 21 or player_1.has_ace == False:\n",
    "            player_final_total = player_1.hand_value\n",
    "        else:\n",
    "            player_final_total = player_1.ace_value\n",
    "        break\n",
    "    elif hs_input.lower() in ['h', 'hit']:\n",
    "        player_1.get_card()\n",
    "        player_1.check_if_ace()\n",
    "        player_1.set_hand_values()\n",
    "        player_1.show_hand()\n",
    "        turn_1 = False\n",
    "        sleep(1)"
   ]
  },
  {
   "cell_type": "markdown",
   "metadata": {},
   "source": [
    "# <font color='red'>Let's Play the Game!</font>"
   ]
  }
 ],
 "metadata": {
  "kernelspec": {
   "display_name": "Python 3",
   "language": "python",
   "name": "python3"
  },
  "language_info": {
   "codemirror_mode": {
    "name": "ipython",
    "version": 3
   },
   "file_extension": ".py",
   "mimetype": "text/x-python",
   "name": "python",
   "nbconvert_exporter": "python",
   "pygments_lexer": "ipython3",
   "version": "3.6.6"
  }
 },
 "nbformat": 4,
 "nbformat_minor": 2
}

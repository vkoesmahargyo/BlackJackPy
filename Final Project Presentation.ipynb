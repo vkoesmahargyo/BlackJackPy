{
 "cells": [
  {
   "cell_type": "code",
   "execution_count": null,
   "metadata": {},
   "outputs": [],
   "source": [
    "\"\"\"\n",
    "888888b.   888                   888       d8b                   888\n",
    "888  \"88b  888                   888       Y8P                   888\n",
    "888  .88P  888                   888                             888\n",
    "8888888K.  888  8888b.   .d8888b 888  888 8888  8888b.   .d8888b 888  888\n",
    "888  \"Y88b 888     \"88b d88P\"    888 .88P \"888     \"88b d88P\"    888 .88P\n",
    "888    888 888 .d888888 888      888888K   888 .d888888 888      888888K\n",
    "888   d88P 888 888  888 Y88b.    888 \"88b  888 888  888 Y88b.    888 \"88b\n",
    "8888888P\"  888 \"Y888888  \"Y8888P 888  888  888 \"Y888888  \"Y8888P 888  888\n",
    "                                           888\n",
    "                                          d88P\n",
    "                                        888P\"\n",
    "\n",
    "\n",
    "\n",
    "\"\"\""
   ]
  },
  {
   "cell_type": "markdown",
   "metadata": {},
   "source": [
    "\n",
    "\n",
    "**Team Members:** \n",
    "\n",
    "Vidya Koesmahargyo<br>\n",
    "Kit McDonald<br>\n",
    "Eden Feldman<br>\n",
    "\n"
   ]
  },
  {
   "cell_type": "markdown",
   "metadata": {},
   "source": [
    "-Blackjack game description\n"
   ]
  },
  {
   "cell_type": "markdown",
   "metadata": {},
   "source": [
    "Elements we had to code for in the game:\n",
    "a card deck, a player hand, etc."
   ]
  },
  {
   "cell_type": "markdown",
   "metadata": {},
   "source": [
    "How the game runs:\n",
    "\n",
    "It starts off with inputting a name, bet,\n",
    "getting cards,\n",
    "\n",
    "Inputs and outputs: \n",
    "Players can hit or stand or double, set a bet amount,.."
   ]
  },
  {
   "cell_type": "markdown",
   "metadata": {},
   "source": [
    "# Deck Dictionary\n",
    "    "
   ]
  },
  {
   "cell_type": "code",
   "execution_count": null,
   "metadata": {},
   "outputs": [],
   "source": [
    "suits = ['\\u2663', '\\u2665', '\\u2666', '\\u2660']*13\n",
    "values = ['A', '2', '3', '4', '5', '6', '7', '8', '9', '10', 'J', 'Q', 'K']*4\n",
    "trial_deck = {}\n",
    "for i in range(1, 53):\n",
    "\ttrial_deck[i] = {\n",
    "\t\t\t\t\t\t'card': values[i-1] + ' ' + suits[i-1],\n",
    "\t\t\t\t\t\t'actual_value': []\n",
    "\t\t\t\t\t}\n",
    "print(trial_deck)"
   ]
  },
  {
   "cell_type": "code",
   "execution_count": null,
   "metadata": {},
   "outputs": [],
   "source": [
    "\n",
    "DECK_DICT = {\n",
    "\t\t\t\t1: {'card': 'A ♣', 'value': [1, 11]},\n",
    "\t\t\t\t2: {'card': '2 ♥', 'value': [2]},\n",
    "\t\t\t\t3: {'card': '3 ♦', 'value': [3]},\n",
    "\t\t\t\t4: {'card': '4 ♠', 'value': [4]},\n",
    "\t\t\t\t5: {'card': '5 ♣', 'value': [5]},\n",
    "\t\t\t\t6: {'card': '6 ♥', 'value': [6]},\n",
    "\t\t\t\t7: {'card': '7 ♦', 'value': [7]},\n",
    "\t\t\t\t8: {'card': '8 ♠', 'value': [8]},\n",
    "\t\t\t\t9: {'card': '9 ♣', 'value': [9]},\n",
    "\t\t\t\t10: {'card': '10 ♥', 'value': [10]},\n",
    "\t\t\t\t11: {'card': 'J ♦', 'value': [10]},\n",
    "\t\t\t\t12: {'card': 'Q ♠', 'value': [10]},\n",
    "\t\t\t\t13: {'card': 'K ♣', 'value': [10]},\n",
    "\t\t\t\t14: {'card': 'A ♥', 'value': [1, 11]},\n",
    "\t\t\t\t15: {'card': '2 ♦', 'value': [2]},\n",
    "\t\t\t\t16: {'card': '3 ♠', 'value': [3]},\n",
    "\t\t\t\t17: {'card': '4 ♣', 'value': [4]},\n",
    "                18: {'card': '5 ♥', 'value': [5]},\n",
    "\t\t\t\t19: {'card': '6 ♦', 'value': [6]},\n",
    "\t\t\t\t20: {'card': '7 ♠', 'value': [7]},\n",
    "\t\t\t\t21: {'card': '8 ♣', 'value': [8]},\n",
    "\t\t\t\t22: {'card': '9 ♥', 'value': [9]},\n",
    "\t\t\t\t23: {'card': '10 ♦', 'value': [10]},\n",
    "\t\t\t\t24: {'card': 'J ♠', 'value': [10]},\n",
    "\t\t\t\t25: {'card': 'Q ♣', 'value': [10]},\n",
    "\t\t\t\t26: {'card': 'K ♥', 'value': [10]},\n",
    "\t\t\t\t27: {'card': 'A ♦', 'value': [1, 11]},\n",
    "\t\t\t\t28: {'card': '2 ♠', 'value': [2]},\n",
    "\t\t\t\t29: {'card': '3 ♣', 'value': [3]},\n",
    "\t\t\t\t30: {'card': '4 ♥', 'value': [4]},\n",
    "\t\t\t\t31: {'card': '5 ♦', 'value': [5]},\n",
    "\t\t\t\t32: {'card': '6 ♠', 'value': [6]},\n",
    "\t\t\t\t33: {'card': '7 ♣', 'value': [7]},\n",
    "\t\t\t\t34: {'card': '8 ♥', 'value': [8]},\n",
    "\t\t\t\t35: {'card': '9 ♦', 'value': [9]},\n",
    "\t\t\t\t36: {'card': '10 ♠', 'value': [10]},\n",
    "\t\t\t\t37: {'card': 'J ♣', 'value': [10]},\n",
    "\t\t\t\t38: {'card': 'Q ♥', 'value': [10]},\n",
    "\t\t\t\t39: {'card': 'K ♦', 'value': [10]},\n",
    "\t\t\t\t40: {'card': 'A ♠', 'value': [1, 11]},\n",
    "\t\t\t\t41: {'card': '2 ♣', 'value': [2]},\n",
    "\t\t\t\t42: {'card': '3 ♥', 'value': [3]},\n",
    "\t\t\t\t43: {'card': '4 ♦', 'value': [4]},\n",
    "\t\t\t\t44: {'card': '5 ♠', 'value': [5]},\n",
    "\t\t\t\t45: {'card': '6 ♣', 'value': [6]},\n",
    "\t\t\t\t46: {'card': '7 ♥', 'value': [7]},\n",
    "\t\t\t\t47: {'card': '8 ♦', 'value': [8]},\n",
    "\t\t\t\t48: {'card': '9 ♠', 'value': [9]},\n",
    "\t\t\t\t49: {'card': '10 ♣', 'value': [10]},\n",
    "\t\t\t\t50: {'card': 'J ♥', 'value': [10]},\n",
    "\t\t\t\t51: {'card': 'Q ♦', 'value': [10]},\n",
    "\t\t\t\t52: {'card': 'K ♠', 'value': [10]}}"
   ]
  },
  {
   "cell_type": "markdown",
   "metadata": {},
   "source": [
    "# Classes: Deck, Player and Dealer"
   ]
  },
  {
   "cell_type": "code",
   "execution_count": 4,
   "metadata": {},
   "outputs": [
    {
     "name": "stdout",
     "output_type": "stream",
     "text": [
      "[]\n",
      "[1, 2, 3, 4, 5, 6, 7, 8, 9, 10, 11, 12, 13, 14, 15, 16, 17, 18, 19, 20, 21, 22, 23, 24, 25, 26, 27, 28, 29, 30, 31, 32, 33, 34, 35, 36, 37, 38, 39, 40, 41, 42, 43, 44, 45, 46, 47, 48, 49, 50, 51, 52]\n",
      "[5, 2, 4, 32, 28, 23, 45, 34, 51, 7, 39, 42, 29, 43, 14, 18, 30, 31, 3, 13, 38, 6, 26, 12, 40, 22, 25, 1, 19, 41, 20, 47, 33, 44, 27, 15, 50, 35, 9, 46, 8, 37, 52, 48, 36, 10, 11, 49, 24, 17, 16, 21]\n"
     ]
    }
   ],
   "source": [
    "import random\n",
    "class Card_Deck(object):\n",
    "\n",
    "\tdeck = []\n",
    "\n",
    "\tdef new_deck(self):\n",
    "\t\tself.deck = [x for x in range(1,53)] # * 6\n",
    "\n",
    "\tdef shuffle(self):\n",
    "\t\trandom.shuffle(self.deck)\n",
    "\n",
    "\tdef give_one_card(self):\n",
    "\t\tcard = self.deck.pop()\n",
    "\t\treturn card\n",
    "\n",
    "shuffled_cards = Card_Deck() # creates the object\n",
    "print(shuffled_cards.deck)\n",
    "shuffled_cards.new_deck()\n",
    "print(shuffled_cards.deck)\n",
    "shuffled_cards.shuffle()\n",
    "print(shuffled_cards.deck)"
   ]
  },
  {
   "cell_type": "markdown",
   "metadata": {},
   "source": [
    "# Player Class Methods"
   ]
  },
  {
   "cell_type": "code",
   "execution_count": null,
   "metadata": {},
   "outputs": [],
   "source": [
    "def __init__(self, name):\n",
    "\tself.name = name\n",
    "\n",
    "def show_balance(self):\n",
    "\tprint(\"\\n{} currently has ${}.\".format(self.name, self.balance))\n",
    "\n",
    "def show_hand(self):\n",
    "    to_print = []\n",
    "\tfor i in range(len(player_1.player_hand)):\n",
    "\t\tto_print.append(player_1.player_hand[i][0])\n",
    "\tprint(player_1.name + \": [\" + \"]  [\".join(to_print) + \"]\")\n"
   ]
  },
  {
   "cell_type": "markdown",
   "metadata": {},
   "source": [
    "# Dealer Class Methods"
   ]
  },
  {
   "cell_type": "code",
   "execution_count": null,
   "metadata": {},
   "outputs": [],
   "source": [
    "def get_dealer_two_card_sum(self):\n",
    "\ttotal = 0\n",
    "\tcard_1_ace = dealer.check_if_ace(self.dealer_cards[0])\n",
    "\tcard_2_ace = dealer.check_if_ace(self.dealer_cards[1])\n",
    "\tif card_1_ace == False and card_2_ace == False: # neither is an ace\n",
    "\t\ttotal += DECK_DICT[self.dealer_cards[0]]['value'][0] + DECK_DICT[self.dealer_cards[1]]['value'][0] # sum of both cards\n",
    "\telif card_1_ace == True and card_2_ace == True: # both are aces - very rare\n",
    "\t\ttotal = 12\n",
    "\telif card_1_ace == True: # card 1 is an Ace\n",
    "\t\ttotal += DECK_DICT[self.dealer_cards[0]]['value'][1] + DECK_DICT[self.dealer_cards[1]]['value'][0] # sum of both cards (where first is Ace = 11)\n",
    "\telif card_2_ace == True: # card 2 is an Ace\n",
    "\t\ttotal += DECK_DICT[self.dealer_cards[0]]['value'][0] + DECK_DICT[self.dealer_cards[1]]['value'][1] # sum of both cards (where second is Ace = 11)\n",
    "\treturn total, card_1_ace, card_2_ace\n",
    "\n",
    "\n",
    "def dealer_cards_check_total(self):\n",
    "\ttotal, card_1_ace, card_2_ace = dealer.get_dealer_two_card_sum() # getting sum of first 2 cards in dealer's hand\n",
    "\tdealer.print_dealer_cards(running_total=total, turn = True) # Initial print out of dealer's 2 cards\n",
    "\tif total > 17 :\n",
    "\t\treturn total\n",
    "\telif total == 17 and card_1_ace == False and card_2_ace == False: # total is hard 17\n",
    "\t\treturn total\n",
    "\telif total <= 17: # soft 17 or less\n",
    "\t\treturn dealer.less_than_18(total, card_1_ace, card_2_ace)\n",
    "\n",
    "def less_than_18(self, total, card_1_ace, card_2_ace):\n",
    "\tif (card_1_ace == False and card_2_ace == False): # make sure no Aces\n",
    "\t\tsoft_card = False\n",
    "\t\twhile True:\n",
    "\t\t\tcurr_card = shuffled_cards.give_one_card() # take card from deck\n",
    "\t\t\tself.dealer_cards.append(curr_card) # add to dealer's current hand\n",
    "\t\t\ttemp_total = total + DECK_DICT[curr_card]['value'][0]\n",
    "\n",
    "\t\t\tif dealer.check_if_ace(curr_card) and total < 11: # if new card is an ace and total is less than 11\n",
    "\t\t\t\ttotal += 11 # ace is 11, we have a soft hand\n",
    "\t\t\t\tsoft_card = True\n",
    "\t\t\telif dealer.check_if_ace(curr_card) and total >= 11: # if new card is an ace and total is >= 11\n",
    "\t\t\t\ttotal += 1 # ace can only be 1, otherwise dealer busts\n",
    "\t\t\telif soft_card == True and temp_total >= 22: # 'busted' w/ soft hand;  not real bust\n",
    "\t\t\t\ttotal = temp_total - 10\n",
    "\t\t\t\tsoft_card = False\n",
    "\t\t\telse:\n",
    "\t\t\t\ttotal += DECK_DICT[curr_card]['value'][0]\n",
    "\n",
    "\t\t\tdealer.print_dealer_cards(running_total=total, turn=False) # print dealer cards after getting next card\n",
    "\n",
    "            if total >= 17:\n",
    "\t\t\t\tbreak\n",
    "\t\treturn total\n",
    "\telse:\t# if ace exists in one/both of dealer's first two cards\n",
    "\t\tsoft_card = True # assume it is a 'soft hand' (since it is either AA, A2, A3, A4, A5, A6)\n",
    "\t\twhile True:\n",
    "\t\t\tcurr_card = shuffled_cards.give_one_card() # take card from deck\n",
    "\t\t\tself.dealer_cards.append(curr_card) # add to dealer's current hand\n",
    "\t\t\tcurr_card_value = DECK_DICT[curr_card]['value'][0] # Ace will always = 1 in this case\n",
    "\t\t\ttemp_total = total + curr_card_value\n",
    "\n",
    "\t\t\tif temp_total >= 22 and soft_card: # check if dealer busts with soft hand\n",
    "\t\t\t\ttotal = temp_total - 10 # we previously assumed Ace is 11, this brings it back down by 10 so A = 1\n",
    "\t\t\t\tsoft_card = False\n",
    "\t\t\telif temp_total >= 22 and soft_card == False: # dealer busts\n",
    "\t\t\t\ttotal = temp_total\n",
    "\t\t\telse:\n",
    "\t\t\t\ttotal = temp_total\n",
    "\n",
    "\t\t\tdealer.print_dealer_cards(turn = False, running_total=total) # print dealer cards after getting next card\n",
    "\n",
    "\t\t\tif total >= 17:\n",
    "\t\t\t\tbreak\n",
    "\t\treturn total\n",
    "\n"
   ]
  },
  {
   "cell_type": "markdown",
   "metadata": {},
   "source": [
    "# Game Loop"
   ]
  },
  {
   "cell_type": "code",
   "execution_count": null,
   "metadata": {},
   "outputs": [],
   "source": [
    "while True:\n",
    "\tif player_1.ace_value == 21 and turn_1:\n",
    "\t\tprint('\\n\\nBLACKJACK! \\n', player_1.ace_value)\n",
    "\t\tplayer_final_total = player_1.ace_value\n",
    "\t\tplayer_blackjack = True\n",
    "\t\tsleep(1)\n",
    "\t\tbreak\n",
    "\tif dealer.dealer_blackjack() == 21:\n",
    "\t\tdealer_21 = True\n",
    "\t\tbreak\n",
    "\n",
    "\t# Get user input for gameplay: hit, stand or double down\n",
    "\tif (player_1.hand_value == 10 or player_1.hand_value == 11) and turn_1 and (player_1.bet*2) < player_1.balance:\n",
    "\t\ths_input = input('\\nWould you like to hit (h), stand (s), or double down (d)?\\n' )\n",
    "\telse:\n",
    "\t\ths_input = input('\\nWould you like to hit (h) or stand (s)?\\n')\n",
    "\n",
    "\tif hs_input.lower() in ['d', 'dd', 'double', 'double down'] and turn_1:\n",
    "\t\tplayer_1.double_down_bet()\n",
    "\t\tdouble_down()\n",
    "\t\tif player_1.has_ace:\n",
    "\t\t\tplayer_final_total = player_1.ace_value\n",
    "\t\telse:\n",
    "\t\t\tplayer_final_total = player_1.hand_value\n",
    "\t\tturn_1 = False\n",
    "\t\tbreak\n",
    "\n",
    "\tif hs_input.lower() in ['s', 'stand']:\n",
    "\t\tif player_1.ace_value > 21 or player_1.has_ace == False:\n",
    "\t\t\tplayer_final_total = player_1.hand_value\n",
    "\t\telse:\n",
    "\t\t\tplayer_final_total = player_1.ace_value\n",
    "\t\tbreak\n",
    "\telif hs_input.lower() in ['h', 'hit']:\n",
    "\t\tplayer_1.get_card()\n",
    "\t\tplayer_1.check_if_ace()\n",
    "\t\tplayer_1.set_hand_values()\n",
    "\t\tplayer_1.show_hand()\n",
    "\t\tturn_1 = False\n",
    "\t\tsleep(1)"
   ]
  },
  {
   "cell_type": "markdown",
   "metadata": {},
   "source": [
    "# Play Game!"
   ]
  },
  {
   "cell_type": "code",
   "execution_count": null,
   "metadata": {},
   "outputs": [],
   "source": []
  }
 ],
 "metadata": {
  "kernelspec": {
   "display_name": "Python 3",
   "language": "python",
   "name": "python3"
  },
  "language_info": {
   "codemirror_mode": {
    "name": "ipython",
    "version": 3
   },
   "file_extension": ".py",
   "mimetype": "text/x-python",
   "name": "python",
   "nbconvert_exporter": "python",
   "pygments_lexer": "ipython3",
   "version": "3.6.5"
  }
 },
 "nbformat": 4,
 "nbformat_minor": 2
}

{
 "cells": [
  {
   "cell_type": "markdown",
   "metadata": {},
   "source": [
    "# Cheatsheet for Player and Deck Classes"
   ]
  },
  {
   "cell_type": "markdown",
   "metadata": {},
   "source": [
    "<font color = AA022> **Note: ** To use a class method, just type the name of the instance of the class + \".\" + name of the method.  to get a class atribute, just type the name of the instance of the class + \".\" + name of th attribute.  If the attribue is a list, normal slicing rules apply</font>\n",
    "<br>\n",
    "Example (using a method/function)     \n",
    "`player_1.check_if_ace()    # Checks to see if the card is an ace`   \n",
    "<br>\n",
    "Example (getting class attribute (like a variable)    \n",
    "`player_1.name              # Get the player's name`   \n",
    "<br>\n",
    "Example (using list slicing to get latest card value)     \n",
    "`player_1.player_hand[len(self.player_hand)][1][0]`\n"
   ]
  },
  {
   "cell_type": "markdown",
   "metadata": {},
   "source": [
    "## Deck Class\n",
    "\n",
    "Honetly, I'm not married to this.  If we really wanted to just make a list and then use shuffle or pop I could probably be convinced.  It's just a little messy.  Usually functions don't affect global variables.  Mutable objects like lists seem to be an exception when you use a method on them."
   ]
  },
  {
   "cell_type": "code",
   "execution_count": 11,
   "metadata": {},
   "outputs": [],
   "source": [
    "import random\n",
    "\n",
    "class Card_Deck(object):\n",
    "    deck = []\n",
    "    \n",
    "    def new_deck(self):\n",
    "        self.deck = [x for x in range(1,53)]\n",
    "    \n",
    "    def shuffle(self):\n",
    "        random.shuffle(self.deck)\n",
    "        \n",
    "    def give_one_card(self):\n",
    "        card = self.deck.pop()\n",
    "        return card\n",
    "\n",
    "        \n",
    "shuffled_cards = Card_Deck()"
   ]
  },
  {
   "cell_type": "markdown",
   "metadata": {},
   "source": [
    "# Class methods... functions that do things\n",
    "\n",
    "## I want to... :   \n",
    "- **Make a new instance of Deck class**   \n",
    "shuffled_cards = Card_Deck()   \n",
    "<br>\n",
    "- **Get a new deck (1-52) or reset and old deck**    \n",
    "shuffled_cards.new_deck()   \n",
    "<br>\n",
    "- **Shuffle the deck**   \n",
    "shuffled_cards.shuffle()   \n",
    "<br>    \n",
    "\n",
    "\n",
    "# Class attribute\n",
    "\n",
    "## I want to see or use..:\n",
    "\n",
    "- **The deck list**   \n",
    "shuffled_cards.deck   "
   ]
  },
  {
   "cell_type": "markdown",
   "metadata": {},
   "source": [
    "## Player Class (minus a few bits)"
   ]
  },
  {
   "cell_type": "code",
   "execution_count": 12,
   "metadata": {},
   "outputs": [],
   "source": [
    "class Player(object):\n",
    "    player_hand = []\n",
    "    hand_value = 0\n",
    "    has_ace = False\n",
    "    balance = 1000\n",
    "    bet = 0\n",
    "\n",
    "    def __init__(self, name):\n",
    "        self.name = name\n",
    "\n",
    "    def get_card(self):\n",
    "        card_key = shuffled_cards.give_one_card()\n",
    "        hand_card = [DECK_DICT[card_key][\"card\"], DECK_DICT[card_key][\"value\"]]\n",
    "        self.player_hand.append(hand_card) \n",
    "                \n",
    "    def check_if_ace(self):\n",
    "        if self.player_hand[len(self.player_hand)-1][0][0] == \"A\":\n",
    "            self.has_ace = True\n",
    "            \n",
    "    def set_hand_values(self):\n",
    "          self.hand_value += self.player_hand[len(self.player_hand)-1][1][0]\n",
    "                \n",
    "    def update_balance(self):\n",
    "        if hand_won == True:\n",
    "            self.balance += self.bet\n",
    "        elif hand_won == False:\n",
    "            self.balance -= self.bet\n",
    "        \n",
    "    def reset_player_attr(self):\n",
    "        self.player_hand = []\n",
    "        self.hand_value = 0\n",
    "        self.has_ace = False\n",
    "        self.bet = 0\n",
    "        \n",
    "player_1 = Player(\"Martha\")"
   ]
  },
  {
   "cell_type": "markdown",
   "metadata": {},
   "source": [
    "# Class methods... functions that do things\n",
    "\n",
    "## I want to... :\n",
    "- **Make a new instance of player**   \n",
    "player_1 = Player(\"name\")   \n",
    "<br>\n",
    "- **Deal a card to the player**   \n",
    "player_1.get_card()   \n",
    "<br>    \n",
    "- **Check if that card is an ace**   \n",
    "player_1.check_if_ace()   \n",
    "<br>\n",
    "- **Add the card value to player's hand value (1 if Ace)**   \n",
    "player_1.set_hand_values()   \n",
    "<br>\n",
    "- **Add/delete the bet money to/from the player's total money after they win/lose**   \n",
    "player_1.update_balance()   \n",
    "<br>\n",
    "- **Reset the player's hand, bet, hand value, and if they have an ace in their hand**   \n",
    "player_1.reset_player_attr()   \n",
    "\n",
    "<br>\n",
    "<br>\n",
    "\n",
    "# Class attributes... basically variables\n",
    "\n",
    "## I want to see or use..:\n",
    "\n",
    "#### Note: you can add print function to any of these class attributes to view them\n",
    "\n",
    "- **Player's name**   \n",
    "player_1.name   \n",
    "<br>\n",
    "- **How much the player's hand is worth if there are no aces or if all aces are 1**   \n",
    "player_1.hand_value   \n",
    "<br>\n",
    "- **How much the player's hand is worth if there is one or more aces**   \n",
    "(player_1.hand_value + 10)   \n",
    "<br>\n",
    "- **If the player currently has any aces in their hand (True or False)**   \n",
    "player_1.has_ace   \n",
    "<br>\n",
    "- **How much money the player currently has**   \n",
    "player_1.balance   \n",
    "<br>\n",
    "- **What the player is currently betting**   \n",
    "player_1.bet   \n",
    "<br>\n",
    "- **Just the face of the last card added to the player's hand**   \n",
    "player_1.player_hand[len(player_1.player_hand)][0]   \n",
    "<br>\n",
    "- **Just the value of the last card added to the player's hand (1 if Ace)**   \n",
    "player_1.player_hand[len(player_1.player_hand)][1][0]   "
   ]
  },
  {
   "cell_type": "code",
   "execution_count": null,
   "metadata": {},
   "outputs": [],
   "source": []
  }
 ],
 "metadata": {
  "kernelspec": {
   "display_name": "Python 3",
   "language": "python",
   "name": "python3"
  },
  "language_info": {
   "codemirror_mode": {
    "name": "ipython",
    "version": 3
   },
   "file_extension": ".py",
   "mimetype": "text/x-python",
   "name": "python",
   "nbconvert_exporter": "python",
   "pygments_lexer": "ipython3",
   "version": "3.6.6"
  }
 },
 "nbformat": 4,
 "nbformat_minor": 2
}
